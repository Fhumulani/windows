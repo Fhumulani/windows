{
 "cells": [
  {
   "cell_type": "markdown",
   "metadata": {},
   "source": [
    "# This code is suppose to allow me to connect to database and retrieve magnets values saved using beam storage program. "
   ]
  },
  {
   "cell_type": "markdown",
   "metadata": {},
   "source": [
    "#### Author : Fhumulani Nemulodi\n",
    "#### Date: I dont know "
   ]
  },
  {
   "cell_type": "code",
   "execution_count": 2,
   "metadata": {},
   "outputs": [],
   "source": [
    "#import needed libraries\n",
    "import pandas as pd\n",
    "import matplotlib.pyplot as plt\n",
    "import pyodbc\n",
    "import os\n",
    "from datetime import datetime\n",
    "from datetime import date\n",
    "import calendar"
   ]
  },
  {
   "cell_type": "markdown",
   "metadata": {},
   "source": [
    "##### Connect to the database"
   ]
  },
  {
   "cell_type": "code",
   "execution_count": 47,
   "metadata": {},
   "outputs": [],
   "source": [
    "fhumu = pyodbc.connect('DRIVER={ODBC Driver 13 for SQL Server};SERVER=contrsql;DATABASE=Beam;UID=sa;PWD=batman')"
   ]
  },
  {
   "cell_type": "code",
   "execution_count": 57,
   "metadata": {},
   "outputs": [],
   "source": [
    "cursor = fhumu.cursor()"
   ]
  },
  {
   "cell_type": "markdown",
   "metadata": {},
   "source": [
    "#### Choose which beam (table) to look for with beam usage, particle and energy "
   ]
  },
  {
   "cell_type": "code",
   "execution_count": 66,
   "metadata": {},
   "outputs": [
    {
     "data": {
      "text/plain": [
       "<pyodbc.Cursor at 0xb019cd8>"
      ]
     },
     "execution_count": 66,
     "metadata": {},
     "output_type": "execute_result"
    }
   ],
   "source": [
    "cursor.execute('SELECT  * from beam_energiesSPC2 where BeamUsage=\\'SPC2\\' AND Particle=\\'He\\' AND Energy=\\'50\\' \\\n",
    "               AND Charge=\\'2\\'')"
   ]
  },
  {
   "cell_type": "markdown",
   "metadata": {},
   "source": [
    "### Based on returned number of tables select tables based on dates"
   ]
  },
  {
   "cell_type": "code",
   "execution_count": 67,
   "metadata": {},
   "outputs": [],
   "source": [
    "dates = []\n",
    "for row in cursor:\n",
    "    #if count < 5:\n",
    "    #print(row)\n",
    "    first = str(row).replace(\"(\",\"\").replace(\"'\",\"\")\n",
    "    date = first.split(',')[0]\n",
    "    dates.append(date)\n",
    "    #count = count + 1\n",
    "        "
   ]
  },
  {
   "cell_type": "code",
   "execution_count": 68,
   "metadata": {},
   "outputs": [],
   "source": [
    "clean = dates[:]"
   ]
  },
  {
   "cell_type": "code",
   "execution_count": 69,
   "metadata": {},
   "outputs": [],
   "source": [
    "for i in range(len(clean)):\n",
    "    clean[i] = clean[i].replace(\"table\",\"\")\n",
    "    if clean[i][0] == '0':\n",
    "        clean[i] = clean[i].replace(\"0\",\"\",1)\n",
    "    clean[i] = clean[i][:-6]"
   ]
  },
  {
   "cell_type": "code",
   "execution_count": 70,
   "metadata": {},
   "outputs": [],
   "source": [
    "days = []\n",
    "for i in range(len(clean)):\n",
    "    year = int(clean[i][:4])\n",
    "    #print(type(int(year)))\n",
    "    month = int(datetime.strptime(clean[i][4:-2], '%B').month)\n",
    "    day = int(clean[i][-2:])\n",
    "    date = datetime(year,month,day)\n",
    "    exact_date = str(calendar.day_abbr[date.weekday()])+\"-\"+str(date.strftime(\"%Y-%m-%d\"))\n",
    "    days.append(exact_date)\n",
    "    "
   ]
  },
  {
   "cell_type": "code",
   "execution_count": 71,
   "metadata": {},
   "outputs": [
    {
     "name": "stdout",
     "output_type": "stream",
     "text": [
      "table02004October05030043\n",
      "table02004October06095116\n",
      "table2015November12124345\n",
      "table2015November12160702\n",
      "table2015November12165448\n"
     ]
    }
   ],
   "source": [
    "count = 0\n",
    "for i in dates:\n",
    "    print(i)\n",
    "    cursor.execute('SELECT  sznacic,Ref from %s where Page = \\'PageG1\\' OR Page = \\'PageG3\\'' % i)\n",
    "    filename = \"fisher\"+str(count)+\".csv\"\n",
    "    f = open(filename,\"a\")\n",
    "#f.write(\"Mag , Cur \\n\")\n",
    "    for row in cursor:    \n",
    "        f.write(str(row).replace(\"(\",\"\").replace(\")\",\"\").replace(\"'\",\"\") + \"\\n\")\n",
    "    f.close()\n",
    "    count += 1\n",
    "    "
   ]
  },
  {
   "cell_type": "code",
   "execution_count": 72,
   "metadata": {},
   "outputs": [],
   "source": [
    "elements = ['soln2qi','soln3qi','rot1qi','rot2qi','soln4qi','soln5qi','bmag2qi','quad1axi','quad2axi','quad4axi',\n",
    "            'quad5axi','quad6axi','soln1axi','soln2axi'] "
   ]
  },
  {
   "cell_type": "code",
   "execution_count": 77,
   "metadata": {
    "scrolled": true
   },
   "outputs": [
    {
     "data": {
      "text/plain": [
       "<function matplotlib.pyplot.show(*args, **kw)>"
      ]
     },
     "execution_count": 77,
     "metadata": {},
     "output_type": "execute_result"
    },
    {
     "data": {
      "image/png": "[encoded data removed]",
      "text/plain": [
       "<Figure size 432x288 with 1 Axes>"
      ]
     },
     "metadata": {
      "needs_background": "light"
     },
     "output_type": "display_data"
    }
   ],
   "source": [
    "df = pd.DataFrame()\n",
    "for m in range(len(dates)):\n",
    "    filname_df = \"fisher\"+str(m)+\".csv\" \n",
    "    #print(filname_df)\n",
    "    data = pd.read_csv(filname_df,names=['Mag','Cur'])\n",
    "    values = []\n",
    "    for i in range(len(data)):\n",
    "        for j in range(len(elements)):\n",
    "            if data.Mag[i] == elements[j]:\n",
    "                values.append(data.Cur[i])\n",
    "    plt.plot(range(0,len(theoretical)),theoretical,'ro')\n",
    "    if m < 2:\n",
    "        plt.plot(range(0,len(theoretical)),values,'--',label=str(days[m]))\n",
    "    else:\n",
    "        plt.plot(range(0,len(theoretical)),values,label=str(days[m]))\n",
    "    plt.legend()\n",
    "plt.show"
   ]
  },
  {
   "cell_type": "code",
   "execution_count": 74,
   "metadata": {},
   "outputs": [],
   "source": [
    "theoretical = [31.21693387,31.21693387,67.39469831,67.39469831,31.21693387,31.21693387,16.39494007,17.66539668,31.8219132,\n",
    "              17.66539668,31.8219132,17.66539668,86.99602887,86.99602887]"
   ]
  },
  {
   "cell_type": "code",
   "execution_count": 30,
   "metadata": {},
   "outputs": [
    {
     "data": {
      "text/html": [
       "<div>\n",
       "<style scoped>\n",
       "    .dataframe tbody tr th:only-of-type {\n",
       "        vertical-align: middle;\n",
       "    }\n",
       "\n",
       "    .dataframe tbody tr th {\n",
       "        vertical-align: top;\n",
       "    }\n",
       "\n",
       "    .dataframe thead th {\n",
       "        text-align: right;\n",
       "    }\n",
       "</style>\n",
       "<table border=\"1\" class=\"dataframe\">\n",
       "  <thead>\n",
       "    <tr style=\"text-align: right;\">\n",
       "      <th></th>\n",
       "    </tr>\n",
       "  </thead>\n",
       "  <tbody>\n",
       "  </tbody>\n",
       "</table>\n",
       "</div>"
      ],
      "text/plain": [
       "Empty DataFrame\n",
       "Columns: []\n",
       "Index: []"
      ]
     },
     "execution_count": 30,
     "metadata": {},
     "output_type": "execute_result"
    }
   ],
   "source": [
    "df"
   ]
  },
  {
   "cell_type": "code",
   "execution_count": 209,
   "metadata": {},
   "outputs": [
    {
     "data": {
      "image/png": "[encoded data removed]",
      "text/plain": [
       "<Figure size 432x288 with 1 Axes>"
      ]
     },
     "metadata": {
      "needs_background": "light"
     },
     "output_type": "display_data"
    }
   ],
   "source": [
    "plt.plot(range(0,len(theoretical)),theoretical,'ro',label='Transport')\n",
    "plt.plot(range(0,len(theoretical)),values,label='Op1')\n",
    "plt.plot(range(0,len(theoretical)),fisher,label='Op2')\n",
    "plt.legend()\n",
    "plt.show()"
   ]
  },
  {
   "cell_type": "code",
   "execution_count": 206,
   "metadata": {},
   "outputs": [
    {
     "data": {
      "text/plain": [
       "[37.75,\n",
       " 37.0,\n",
       " 74.35,\n",
       " 69.8,\n",
       " 37.9,\n",
       " 35.2,\n",
       " 17.323,\n",
       " 12.35,\n",
       " 35.45,\n",
       " 19.5,\n",
       " 35.88,\n",
       " 21.1,\n",
       " 91.875,\n",
       " 104.2875]"
      ]
     },
     "execution_count": 206,
     "metadata": {},
     "output_type": "execute_result"
    }
   ],
   "source": [
    "values"
   ]
  },
  {
   "cell_type": "code",
   "execution_count": 143,
   "metadata": {},
   "outputs": [
    {
     "data": {
      "text/plain": [
       "[' 38.8900',\n",
       " ' 36.0000',\n",
       " ' 67.7500',\n",
       " ' 67.5000',\n",
       " ' 33.0000',\n",
       " ' 40.0000',\n",
       " ' 17.2960',\n",
       " ' 17.2500',\n",
       " ' 31.4500',\n",
       " ' 17.6000',\n",
       " ' 31.8500',\n",
       " ' 17.5000',\n",
       " ' 86.6125',\n",
       " ' 86.6069']"
      ]
     },
     "execution_count": 143,
     "metadata": {},
     "output_type": "execute_result"
    }
   ],
   "source": [
    "values"
   ]
  },
  {
   "cell_type": "code",
   "execution_count": 56,
   "metadata": {},
   "outputs": [],
   "source": [
    "#f.close()\n",
    "cursor.close()\n"
   ]
  },
  {
   "cell_type": "code",
   "execution_count": null,
   "metadata": {},
   "outputs": [],
   "source": [
    "fhumu.close()"
   ]
  }
 ],
 "metadata": {
  "kernelspec": {
   "display_name": "Python 3",
   "language": "python",
   "name": "python3"
  },
  "language_info": {
   "codemirror_mode": {
    "name": "ipython",
    "version": 3
   },
   "file_extension": ".py",
   "mimetype": "text/x-python",
   "name": "python",
   "nbconvert_exporter": "python",
   "pygments_lexer": "ipython3",
   "version": "3.7.1"
  }
 },
 "nbformat": 4,
 "nbformat_minor": 2
}
